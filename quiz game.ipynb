{
 "cells": [
  {
   "cell_type": "code",
   "execution_count": 1,
   "id": "b651b93f",
   "metadata": {},
   "outputs": [
    {
     "name": "stdout",
     "output_type": "stream",
     "text": [
      "Welcome to my computer quiz!\n",
      "Do you want to play? yes\n",
      "okay! let's play: \n",
      "What does CPU stand for? central processing unit\n",
      "correct!\n",
      "What does GPU stand for? graphical pracessing unit\n",
      "Incorrect!\n",
      "What does RAM stand for? random access memory\n",
      "correct!\n",
      "What does PSU stand for? power supply\n",
      "correct!\n",
      "You got 3question correct!\n",
      "You got 75.0%. \n"
     ]
    }
   ],
   "source": [
    "print(\"Welcome to my computer quiz!\")\n",
    "\n",
    "playing = input(\"Do you want to play? \")\n",
    "\n",
    "if playing.lower() !=\"yes\":\n",
    "    quit()\n",
    "\n",
    "print(\"okay! let's play: \") \n",
    "score=0   \n",
    "\n",
    "answer = input(\"What does CPU stand for? \")\n",
    "if answer.lower() == \"central processing unit\":\n",
    "    print(\"correct!\")\n",
    "    score += 1\n",
    "else:\n",
    "    print(\"Incorrect!\")    \n",
    "\n",
    "answer = input(\"What does GPU stand for? \")\n",
    "if answer.lower() == \"graphics processing unit\":\n",
    "    print(\"correct!\")\n",
    "    score += 1\n",
    "else:\n",
    "    print(\"Incorrect!\")    \n",
    "\n",
    "answer = input(\"What does RAM stand for? \")\n",
    "if answer.lower() == \"random access memory\":\n",
    "    print(\"correct!\")\n",
    "    score += 1\n",
    "else:\n",
    "    print(\"Incorrect!\")    \n",
    "\n",
    "answer = input(\"What does PSU stand for? \")\n",
    "if answer.lower() == \"power supply\":\n",
    "    print(\"correct!\")\n",
    "    score += 1\n",
    "else:\n",
    "    print(\"Incorrect!\")    \n",
    "\n",
    "print(\"You got \" + str(score) + \"question correct!\")\n",
    "print(\"You got \" + str((score / 4) * 100) + \"%. \")"
   ]
  }
 ],
 "metadata": {
  "kernelspec": {
   "display_name": "Python 3 (ipykernel)",
   "language": "python",
   "name": "python3"
  },
  "language_info": {
   "codemirror_mode": {
    "name": "ipython",
    "version": 3
   },
   "file_extension": ".py",
   "mimetype": "text/x-python",
   "name": "python",
   "nbconvert_exporter": "python",
   "pygments_lexer": "ipython3",
   "version": "3.9.12"
  }
 },
 "nbformat": 4,
 "nbformat_minor": 5
}
